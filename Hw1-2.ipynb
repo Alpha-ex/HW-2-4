{
 "cells": [
  {
   "cell_type": "code",
   "execution_count": 7,
   "metadata": {},
   "outputs": [
    {
     "name": "stdout",
     "output_type": "stream",
     "text": [
      "[ 0 -1  2 -1  4 -1  6 -1  8 -1]\n",
      "[0 1 2 3 4 5 6 7 8 9]\n",
      "[[ 1  2  3]\n",
      " [ 4  5  6]\n",
      " [ 7  8  9]\n",
      " [10 11 12]]\n",
      "[1 2 3 1 2 3 1 2 3]\n",
      "[2 4]\n",
      "[15 10  3  7 18]\n",
      "[ 1.  2.  3. nan  5.  6.  7. nan]\n",
      "6.708203932499369\n",
      "8\n",
      "True\n"
     ]
    }
   ],
   "source": [
    "import numpy as np\n",
    "\n",
    "arr = np.array([0, 1, 2, 3, 4, 5, 6, 7, 8, 9])\n",
    "arr[arr % 2 == 1] = -1\n",
    "print(arr)\n",
    "# Створіть та перетворіть 1D-масив на 2D-масив із 2 рядками\n",
    "\n",
    "arr_1 = np.array([0, 1, 2, 3, 4, 5, 6, 7, 8, 9])\n",
    "arr = arr_1.reshape(2, -1)\n",
    "print(arr_1)\n",
    "# Створіть два двовимірні масиви а і b, та складіть масиви їх вертикально\n",
    "\n",
    "a = np.array([[1, 2, 3], [4, 5, 6]])\n",
    "b = np.array([[7, 8, 9], [10, 11, 12]])\n",
    "c = np.vstack((a, b))\n",
    "print(c)\n",
    "# Створіть наступний шаблон без жорсткого кодування(Hard coding) . Використовуйте лише функції Numpy і наведений нижче масив введення\n",
    "\n",
    "a = np.array([1,2,3])\n",
    "a = np.tile(a, 3)\n",
    "print(a)\n",
    "# Отримайте спільні елементи між a і b\n",
    "\n",
    "a = np.array([1,2,3,2,3,4,3,4,5,6])\n",
    "b = np.array([7,2,10,2,7,4,9,4,9,8])\n",
    "common_elements = np.intersect1d(a, b)\n",
    "print(common_elements)\n",
    "# Отримайте позиції перших 5 максимальних значень у заданому масиві a\n",
    "\n",
    "np.random.seed(100)\n",
    "a = np.random.uniform(1,50, 20)\n",
    "indices = np.argpartition(a, -5)[-5:]\n",
    "print(indices[np.argsort(a[indices])[::-1]])\n",
    "# Вилучіть усі значення NaN із одновимірного масиву\n",
    "\n",
    "a = np.array([1,2,3,np.nan,5,6,7,np.nan])\n",
    "a = a[np.isnan(a)]\n",
    "print(a_1)\n",
    "# Обчисліть евклідову відстань між двома масивами a і b.\n",
    "\n",
    "a = np.array([1,2,3,4,5])\n",
    "b = np.array([4,5,6,7,8])\n",
    "distance = np.linalg.norm(a - b)\n",
    "print(distance)\n",
    "# Знайдіть індекс 5-го повторення числа 1 у масиві x\n",
    "\n",
    "x = np.array([1, 2, 1, 1, 3, 4, 3, 1, 1, 2, 1, 1, 2])\n",
    "indices = np.where(x == 1)[0]\n",
    "if len(indices) >= 5:\n",
    "    fifth_index = indices[4]\n",
    "else:\n",
    "    fifth_index = -1\n",
    "print(fifth_index)\n",
    "# Знайдіть повторювані записи (від 2-го випадку повторення і далі) у заданому масиві і позначте їх як True. Перше повторення має бути False.\n",
    "\n",
    "np.random.seed(100)\n",
    "a = np.random.randint(0, 5, 10)\n",
    "a = np.where(a[:-1] == a[1:], True, False)[0]\n",
    "print(a_2)"
   ]
  }
 ],
 "metadata": {
  "kernelspec": {
   "display_name": "Python 3",
   "language": "python",
   "name": "python3"
  },
  "language_info": {
   "codemirror_mode": {
    "name": "ipython",
    "version": 3
   },
   "file_extension": ".py",
   "mimetype": "text/x-python",
   "name": "python",
   "nbconvert_exporter": "python",
   "pygments_lexer": "ipython3",
   "version": "3.12.2"
  }
 },
 "nbformat": 4,
 "nbformat_minor": 2
}
